{
 "cells": [
  {
   "cell_type": "code",
   "execution_count": 24,
   "metadata": {},
   "outputs": [],
   "source": [
    "\n",
    "import sys\n",
    "sys.path.append('../..')\n",
    "from evaluation.Corpus import Corpus\n",
    "import gensim.models as gm\n",
    "from gensim.models import Word2Vec\n",
    "from gensim.similarities import WmdSimilarity\n",
    "from evaluation.IR_Method import IR_Method\n"
   ]
  },
  {
   "cell_type": "code",
   "execution_count": 25,
   "metadata": {},
   "outputs": [],
   "source": [
    "class Word2Vec_IR(IR_Method):\n",
    "\n",
    "    def generate_model(self, parameters):\n",
    "        print(\"generating new word2vec model\")\n",
    "                       \n",
    "        default_parameters = dict()\n",
    "        default_parameters['sg'] = 1\n",
    "        default_parameters['size'] = 100\n",
    "        default_parameters['min_count'] = 2\n",
    "        default_parameters['iter'] = 40\n",
    "    \n",
    "        if parameters is not None:\n",
    "            for key in parameters:\n",
    "                if key in default_parameters:\n",
    "                    default_parameters[key] = parameters[key]\n",
    "                else:\n",
    "                    print(\"Ignoring unrecognized doc2vec parameter [\" + str(key) + \"]\")\n",
    "\n",
    "        parameters = default_parameters\n",
    "\n",
    "        trace_model = self._new_model(\"word2vec\", parameters=parameters)\n",
    "        \n",
    "        model = Word2Vec(w2v_corpus, sg = parameters['sg'], size = parameters['size'],\n",
    "                         min_count = parameters['min_count'],iter = parameters['iter'])\n"
   ]
  },
  {
   "cell_type": "code",
   "execution_count": null,
   "metadata": {},
   "outputs": [],
   "source": [
    " w2v_corpus = []  \n",
    "        wmd_corpus = []  \n",
    "        documents = [] \n",
    "\n",
    "        corpus = Corpus.get_preset_corpus('1_1')\n",
    "\n",
    "        w2v_corpus.append(corpus)\n",
    "        print(len(w2v_corpus))"
   ]
  }
 ],
 "metadata": {
  "kernelspec": {
   "display_name": "Python 3",
   "language": "python",
   "name": "python3"
  },
  "language_info": {
   "codemirror_mode": {
    "name": "ipython",
    "version": 3
   },
   "file_extension": ".py",
   "mimetype": "text/x-python",
   "name": "python",
   "nbconvert_exporter": "python",
   "pygments_lexer": "ipython3",
   "version": "3.7.1"
  }
 },
 "nbformat": 4,
 "nbformat_minor": 2
}
