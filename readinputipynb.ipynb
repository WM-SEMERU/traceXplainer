{
  "nbformat": 4,
  "nbformat_minor": 0,
  "metadata": {
    "colab": {
      "name": "readinputipynb",
      "provenance": [],
      "include_colab_link": true
    },
    "kernelspec": {
      "name": "python3",
      "display_name": "Python 3"
    }
  },
  "cells": [
    {
      "cell_type": "markdown",
      "metadata": {
        "id": "view-in-github",
        "colab_type": "text"
      },
      "source": [
        "<a href=\"https://colab.research.google.com/github/WM-CSCI-435-F19/Neural-Unsupervised-Software-Traceability/blob/master/readinputipynb.ipynb\" target=\"_parent\"><img src=\"https://colab.research.google.com/assets/colab-badge.svg\" alt=\"Open In Colab\"/></a>"
      ]
    },
    {
      "cell_type": "code",
      "metadata": {
        "id": "wZFNzqVacpox",
        "colab_type": "code",
        "outputId": "acae6bff-a56c-4af0-8804-b83c11e1e287",
        "colab": {
          "base_uri": "https://localhost:8080/",
          "height": 54
        }
      },
      "source": [
        "from google.colab import drive\n",
        "drive.mount('/content/drive')\n",
        "\n",
        "\n"
      ],
      "execution_count": 0,
      "outputs": [
        {
          "output_type": "stream",
          "text": [
            "Drive already mounted at /content/drive; to attempt to forcibly remount, call drive.mount(\"/content/drive\", force_remount=True).\n"
          ],
          "name": "stdout"
        }
      ]
    },
    {
      "cell_type": "code",
      "metadata": {
        "id": "129Y3nsMq40J",
        "colab_type": "code",
        "colab": {}
      },
      "source": [
        "import glob\n",
        "import os\n",
        "\n",
        "data_root = 'drive/My Drive/datasets/'\n",
        "\n",
        "data_source = 'drive/My Drive/datasets/LibEST_semeru_format/source_code'\n",
        "\n",
        "data_requirements = 'drive/My Drive/datasets/LibEST_semeru_format/requirements'\n",
        "\n",
        "data_test = 'drive/My Drive/datasets/LibEST_semeru_format/test'\n",
        "\n",
        "out_file = 'drive/My Drive/datasets/requirements_textfile/'\n",
        "\n",
        "\n",
        "\n",
        "def concat(input):\n",
        "  #os.chdir(input)\n",
        "  f = glob.glob('*.txt')\n",
        "            \n",
        "  with open('output.txt', 'w') as outfile:\n",
        "    for line in f:\n",
        "        with open(line, 'r') as infile:\n",
        "            outfile.write(infile.read())\n",
        "            \n",
        "concat(data_requirements)"
      ],
      "execution_count": 0,
      "outputs": []
    }
  ]
}