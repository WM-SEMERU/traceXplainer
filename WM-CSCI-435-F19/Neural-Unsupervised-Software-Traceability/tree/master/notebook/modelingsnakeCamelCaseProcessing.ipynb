{
  "nbformat": 4,
  "nbformat_minor": 0,
  "metadata": {
    "colab": {
      "name": "snakeCamelCaseProcessing.ipynb",
      "provenance": [],
      "collapsed_sections": [],
      "include_colab_link": true
    },
    "kernelspec": {
      "name": "python3",
      "display_name": "Python 3"
    }
  },
  "cells": [
    {
      "cell_type": "markdown",
      "metadata": {
        "id": "view-in-github",
        "colab_type": "text"
      },
      "source": [
        "<a href=\"https://colab.research.google.com/github/WM-CSCI-435-F19/Neural-Unsupervised-Software-Traceability/blob/master/WM-CSCI-435-F19/Neural-Unsupervised-Software-Traceability/tree/master/notebook/modelingsnakeCamelCaseProcessing.ipynb\" target=\"_parent\"><img src=\"https://colab.research.google.com/assets/colab-badge.svg\" alt=\"Open In Colab\"/></a>"
      ]
    },
    {
      "cell_type": "code",
      "metadata": {
        "id": "uteaxyOCVJ7t",
        "colab_type": "code",
        "outputId": "7f4724ab-f8d9-468e-8e88-6c3072d15318",
        "colab": {
          "base_uri": "https://localhost:8080/",
          "height": 34
        }
      },
      "source": [
        " import re \n",
        "\n",
        "def split_camel_case(token): \n",
        "  new = re.sub('([a-z])([A-Z])', r'\\1 \\2', token) \n",
        "  return new.split() \n",
        "\n",
        "def split_snake_case(token): \n",
        "  new = re.sub('([a-zA-Z])?_([a-zA-Z])', r'\\1 \\2', token) \n",
        "  return new.split() \n",
        "\n",
        "def split_variable_tokens(list): \n",
        "  tokens = [] \n",
        "  tokens_camel = [] \n",
        "  tokens_snake = []\n",
        "  tokens_final = []\n",
        "  for name in list: \n",
        "    tokens.append(split_camel_case(name)) \n",
        "  for token in tokens: \n",
        "    for string in token: \n",
        "      tokens_camel.append(string) \n",
        "  for token in tokens_camel: \n",
        "    tokens_snake.append(split_snake_case(token)) \n",
        "  for token in tokens_snake: \n",
        "    for string in token: \n",
        "      tokens_final.append(string)\n",
        "  return tokens_final\n",
        "\n",
        "\n",
        "variables = [\"jackLiegey\", \"SandeepKanchiraju\", \"danielMcCrystal\", \"_jack_liegey\", \"Sandeep_Kanchiraju\", \"_Daniel_mccrystal\"] \n",
        "print(split_variable_tokens(variables))"
      ],
      "execution_count": 0,
      "outputs": [
        {
          "output_type": "stream",
          "text": [
            "['jack', 'Liegey', 'Sandeep', 'Kanchiraju', 'daniel', 'Mc', 'Crystal', 'jack', 'liegey', 'Sandeep', 'Kanchiraju', 'Daniel', 'mccrystal']\n"
          ],
          "name": "stdout"
        }
      ]
    }
  ]
}