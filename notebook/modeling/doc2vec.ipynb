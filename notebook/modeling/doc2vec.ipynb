{
  "nbformat": 4,
  "nbformat_minor": 0,
  "metadata": {
    "colab": {
      "name": "doc2vec.ipynb",
      "provenance": [],
      "include_colab_link": true
    },
    "kernelspec": {
      "name": "python3",
      "display_name": "Python 3"
    }
  },
  "cells": [
    {
      "cell_type": "markdown",
      "metadata": {
        "id": "view-in-github",
        "colab_type": "text"
      },
      "source": [
        "<a href=\"https://colab.research.google.com/github/WM-CSCI-435-F19/Neural-Unsupervised-Software-Traceability/blob/master/notebook/modeling/doc2vec.ipynb\" target=\"_parent\"><img src=\"https://colab.research.google.com/assets/colab-badge.svg\" alt=\"Open In Colab\"/></a>"
      ]
    },
    {
      "cell_type": "code",
      "metadata": {
        "id": "aHRxOTvTUzre",
        "colab_type": "code",
        "colab": {}
      },
      "source": [
        "import gensim\n",
        "import os\n",
        "import collections\n",
        "import smart_open\n",
        "import random"
      ],
      "execution_count": 0,
      "outputs": []
    },
    {
      "cell_type": "code",
      "metadata": {
        "id": "mlWQpJxiWW75",
        "colab_type": "code",
        "colab": {}
      },
      "source": [
        "# Function to help read a .cor file\n",
        "def read_corpus(fname, tokens_only=False):\n",
        "    with smart_open.open(fname, encoding=\"iso-8859-1\") as f:\n",
        "        for i, line in enumerate(f):\n",
        "            if tokens_only:\n",
        "                yield gensim.utils.simple_preprocess(line)\n",
        "            else:\n",
        "                # For training data, add tags\n",
        "                yield gensim.models.doc2vec.TaggedDocument(gensim.utils.simple_preprocess(line), [i])"
      ],
      "execution_count": 0,
      "outputs": []
    },
    {
      "cell_type": "code",
      "metadata": {
        "id": "aa3gDJVTWpUF",
        "colab_type": "code",
        "colab": {}
      },
      "source": [
        "# Create a new .cor file\n",
        "iTrust_cor_file = open(\"iTrust.cor\",\"w+\")\n",
        "\n",
        "# For testing I uploaded the contents of Neural-Unsupervised-Software-Traceability/data/raw/iTrust_semeru_format/use_cases/\n",
        "# to the below directory\n",
        "for filename in os.listdir('/content/github_datasets/iTrust'):\n",
        "  # get the filepath for the current file and open it\n",
        "  cur_path = '/content/github_datasets/iTrust/' + filename\n",
        "  cur_file = open(cur_path, \"r\", encoding=\"ISO-8859-1\")\n",
        "  # create a new empty string, read in file and remove newlines\n",
        "  one_line_str = \"\"\n",
        "  for line in cur_file :\n",
        "    one_line_str += line.strip() + \" \"\n",
        "  # add new one-line string to iTrust .cor file and add a newline\n",
        "  iTrust_cor_file.write(one_line_str + \"\\n\")\n",
        "  cur_file.close()\n",
        "iTrust_cor_file.close()\n",
        "filepath = '/content/iTrust.cor'\n",
        "# convert our .cor file to a list that can be fed into the model\n",
        "train_corpus = list(read_corpus(filepath))"
      ],
      "execution_count": 0,
      "outputs": []
    },
    {
      "cell_type": "code",
      "metadata": {
        "id": "gnRDmOg_j9WM",
        "colab_type": "code",
        "colab": {}
      },
      "source": [
        "model = gensim.models.doc2vec.Doc2Vec(vector_size=50, min_count=2, epochs=40)"
      ],
      "execution_count": 0,
      "outputs": []
    },
    {
      "cell_type": "code",
      "metadata": {
        "id": "mdEoS3TUj_OX",
        "colab_type": "code",
        "colab": {}
      },
      "source": [
        "model.build_vocab(train_corpus)"
      ],
      "execution_count": 0,
      "outputs": []
    },
    {
      "cell_type": "code",
      "metadata": {
        "id": "8ULjAop4kDMK",
        "colab_type": "code",
        "colab": {
          "base_uri": "https://localhost:8080/",
          "height": 51
        },
        "outputId": "c2f25cc6-e6c3-4b00-b850-11015aa9c9d5"
      },
      "source": [
        "%time model.train(train_corpus, total_examples=model.corpus_count, epochs=model.epochs)"
      ],
      "execution_count": 29,
      "outputs": [
        {
          "output_type": "stream",
          "text": [
            "CPU times: user 505 ms, sys: 17.2 ms, total: 522 ms\n",
            "Wall time: 537 ms\n"
          ],
          "name": "stdout"
        }
      ]
    },
    {
      "cell_type": "code",
      "metadata": {
        "id": "UGZFMyYZkEf7",
        "colab_type": "code",
        "colab": {
          "base_uri": "https://localhost:8080/",
          "height": 71
        },
        "outputId": "130bd681-d09e-42cc-a04c-d2b33b804040"
      },
      "source": [
        "ranks = []\n",
        "second_ranks = []\n",
        "for doc_id in range(len(train_corpus)):\n",
        "    inferred_vector = model.infer_vector(train_corpus[doc_id].words)\n",
        "    sims = model.docvecs.most_similar([inferred_vector], topn=len(model.docvecs))\n",
        "    rank = [docid for docid, sim in sims].index(doc_id)\n",
        "    ranks.append(rank)\n",
        "    \n",
        "    second_ranks.append(sims[1])"
      ],
      "execution_count": 31,
      "outputs": [
        {
          "output_type": "stream",
          "text": [
            "/usr/local/lib/python3.6/dist-packages/gensim/matutils.py:737: FutureWarning: Conversion of the second argument of issubdtype from `int` to `np.signedinteger` is deprecated. In future, it will be treated as `np.int64 == np.dtype(int).type`.\n",
            "  if np.issubdtype(vec.dtype, np.int):\n"
          ],
          "name": "stderr"
        }
      ]
    },
    {
      "cell_type": "code",
      "metadata": {
        "id": "NOe18Uchkczf",
        "colab_type": "code",
        "colab": {
          "base_uri": "https://localhost:8080/",
          "height": 241
        },
        "outputId": "2238815f-f6d8-4140-a4ae-667767dc6afd"
      },
      "source": [
        "print('Document ({}): «{}»\\n'.format(doc_id, ' '.join(train_corpus[doc_id].words)))\n",
        "print(u'SIMILAR/DISSIMILAR DOCS PER MODEL %s:\\n' % model)\n",
        "for label, index in [('MOST', 0), ('SECOND-MOST', 1), ('MEDIAN', len(sims)//2), ('LEAST', len(sims) - 1)]:\n",
        "    print(u'%s %s: «%s»\\n' % (label, sims[index], ' '.join(train_corpus[sims[index][0]].words)))"
      ],
      "execution_count": 32,
      "outputs": [
        {
          "output_type": "stream",
          "text": [
            "Document (130): «the chosen patient is not the desired patient the lhcp does not confirm the selection and can try again»\n",
            "\n",
            "SIMILAR/DISSIMILAR DOCS PER MODEL Doc2Vec(dm/m,d50,n5,w5,mc2,s0.001,t3):\n",
            "\n",
            "MOST (115, 0.9708189368247986): «the patient chosen is not the desired patient the hcp does not confirm the selection and is prompted to try again»\n",
            "\n",
            "SECOND-MOST (120, 0.9704044461250305): «the patient chosen is not the desired patient the lhcp does not confirm the selection and is prompted to try again»\n",
            "\n",
            "MEDIAN (97, 0.5207624435424805): «user chooses to view physician satisfaction survey results the user provides zip code or hospital code and an optional physician type from pull down list see data format general surgeon heart specialist pediatrician ob gyn the patient is provided with the following for each physician of that type that practices in zip code based upon the address zipcode provided in uc that match the first three digits of the provided zip code name address average number of minutes patients wait in waiting room average number of minutes patients wait in examination room prior to seeing physician average office visit satisfaction average satisfaction with treatment information percentage of office visits for which satisfaction information is available»\n",
            "\n",
            "LEAST (50, -0.2113349735736847): «user an lhcp or patient wishes to view list of his or her upcoming appointments list including appointments whose appointment date and start time is equal or later than the current date time the user chooses to open his or her upcoming appointment list each row in the list includes the appointment type appointment date and start time duration and the name of either the patient only for the user being an lhcp or the lhcp only for the user being patient the appointments in the list shall be ordered by appointment date and start time the soonest upcoming first the row for each conflicting appointment is highlighted in bold conflicting appointment is one that has overlap in its appointment duration period with that of at least another appointment of the same user when viewing the calendar the user selects an appointment from the list to read comment by clicking the read commentâ link beside the row for the appointment and then the comment for the appointment shall be displayed in new page»\n",
            "\n"
          ],
          "name": "stdout"
        }
      ]
    }
  ]
}